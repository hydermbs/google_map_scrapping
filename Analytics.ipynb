{
 "cells": [
  {
   "cell_type": "code",
   "execution_count": 1,
   "metadata": {},
   "outputs": [],
   "source": [
    "import pandas as pd\n",
    "import numpy as np\n",
    "import matplotlib.pyplot as plt "
   ]
  },
  {
   "cell_type": "code",
   "execution_count": 6,
   "metadata": {},
   "outputs": [
    {
     "data": {
      "text/html": [
       "<div>\n",
       "<style scoped>\n",
       "    .dataframe tbody tr th:only-of-type {\n",
       "        vertical-align: middle;\n",
       "    }\n",
       "\n",
       "    .dataframe tbody tr th {\n",
       "        vertical-align: top;\n",
       "    }\n",
       "\n",
       "    .dataframe thead th {\n",
       "        text-align: right;\n",
       "    }\n",
       "</style>\n",
       "<table border=\"1\" class=\"dataframe\">\n",
       "  <thead>\n",
       "    <tr style=\"text-align: right;\">\n",
       "      <th></th>\n",
       "      <th>name</th>\n",
       "      <th>phone</th>\n",
       "      <th>address</th>\n",
       "      <th>website</th>\n",
       "      <th>rating</th>\n",
       "      <th>reviews</th>\n",
       "    </tr>\n",
       "  </thead>\n",
       "  <tbody>\n",
       "    <tr>\n",
       "      <th>0</th>\n",
       "      <td>Burger King</td>\n",
       "      <td>+44 20 7370 2447</td>\n",
       "      <td>85 Gloucester Rd, South Kensington, London, SW...</td>\n",
       "      <td>https://locations.burgerking.co.uk/london/85-g...</td>\n",
       "      <td>3.4</td>\n",
       "      <td>2153.0</td>\n",
       "    </tr>\n",
       "    <tr>\n",
       "      <th>1</th>\n",
       "      <td>The Burger</td>\n",
       "      <td>NaN</td>\n",
       "      <td>250 Vauxhall Bridge Rd, London, SW1V 1AU, Unit...</td>\n",
       "      <td>NaN</td>\n",
       "      <td>NaN</td>\n",
       "      <td>NaN</td>\n",
       "    </tr>\n",
       "    <tr>\n",
       "      <th>2</th>\n",
       "      <td>Honest Burgers Brewer St - Soho</td>\n",
       "      <td>+44 20 3819 3530</td>\n",
       "      <td>84 Brewer St, London, W1F 9UB, United Kingdom</td>\n",
       "      <td>https://www.honestburgers.co.uk/locations/picc...</td>\n",
       "      <td>4.4</td>\n",
       "      <td>1229.0</td>\n",
       "    </tr>\n",
       "    <tr>\n",
       "      <th>3</th>\n",
       "      <td>Bun &amp; Burger</td>\n",
       "      <td>NaN</td>\n",
       "      <td>63 Rochester Ave, London, E13 9JL, United Kingdom</td>\n",
       "      <td>NaN</td>\n",
       "      <td>3.8</td>\n",
       "      <td>12.0</td>\n",
       "    </tr>\n",
       "    <tr>\n",
       "      <th>4</th>\n",
       "      <td>Burger King</td>\n",
       "      <td>+44 20 7401 3906</td>\n",
       "      <td>Waterloo Railway Station, London, SE1 8SE, Uni...</td>\n",
       "      <td>https://locations.burgerking.co.uk/london/wate...</td>\n",
       "      <td>2.9</td>\n",
       "      <td>899.0</td>\n",
       "    </tr>\n",
       "    <tr>\n",
       "      <th>5</th>\n",
       "      <td>Honest Burgers Borough</td>\n",
       "      <td>+44 20 4542 4840</td>\n",
       "      <td>5-7 Southwark St, London, SE1 1RQ, United Kingdom</td>\n",
       "      <td>https://www.honestburgers.co.uk/locations/boro...</td>\n",
       "      <td>4.5</td>\n",
       "      <td>3028.0</td>\n",
       "    </tr>\n",
       "    <tr>\n",
       "      <th>6</th>\n",
       "      <td>Honest Burgers South Kensington</td>\n",
       "      <td>+44 20 4542 5740</td>\n",
       "      <td>24 Thurloe St, South Kensington, London, SW7 2...</td>\n",
       "      <td>https://www.honestburgers.co.uk/locations/sout...</td>\n",
       "      <td>4.5</td>\n",
       "      <td>4320.0</td>\n",
       "    </tr>\n",
       "    <tr>\n",
       "      <th>7</th>\n",
       "      <td>Honest Burgers King's Cross</td>\n",
       "      <td>+44 20 3818 0220</td>\n",
       "      <td>251 Pentonville Rd, London, N1 9NG, United Kin...</td>\n",
       "      <td>https://www.honestburgers.co.uk/locations/king...</td>\n",
       "      <td>4.5</td>\n",
       "      <td>3453.0</td>\n",
       "    </tr>\n",
       "    <tr>\n",
       "      <th>8</th>\n",
       "      <td>Honest Burgers Bank</td>\n",
       "      <td>+44 20 4542 5760</td>\n",
       "      <td>4, off Change Alley, Lombard St, London EC3V 9...</td>\n",
       "      <td>https://www.honestburgers.co.uk/locations/bank/</td>\n",
       "      <td>4.4</td>\n",
       "      <td>1959.0</td>\n",
       "    </tr>\n",
       "    <tr>\n",
       "      <th>9</th>\n",
       "      <td>Honest Burgers South Bank</td>\n",
       "      <td>+44 20 4542 5310</td>\n",
       "      <td>9 Festival Terrace, London, SE1 8XX, United Ki...</td>\n",
       "      <td>https://www.honestburgers.co.uk/locations/sout...</td>\n",
       "      <td>4.4</td>\n",
       "      <td>2150.0</td>\n",
       "    </tr>\n",
       "  </tbody>\n",
       "</table>\n",
       "</div>"
      ],
      "text/plain": [
       "                              name             phone  \\\n",
       "0                      Burger King  +44 20 7370 2447   \n",
       "1                       The Burger               NaN   \n",
       "2  Honest Burgers Brewer St - Soho  +44 20 3819 3530   \n",
       "3                     Bun & Burger               NaN   \n",
       "4                      Burger King  +44 20 7401 3906   \n",
       "5           Honest Burgers Borough  +44 20 4542 4840   \n",
       "6  Honest Burgers South Kensington  +44 20 4542 5740   \n",
       "7      Honest Burgers King's Cross  +44 20 3818 0220   \n",
       "8              Honest Burgers Bank  +44 20 4542 5760   \n",
       "9        Honest Burgers South Bank  +44 20 4542 5310   \n",
       "\n",
       "                                             address  \\\n",
       "0  85 Gloucester Rd, South Kensington, London, SW...   \n",
       "1  250 Vauxhall Bridge Rd, London, SW1V 1AU, Unit...   \n",
       "2      84 Brewer St, London, W1F 9UB, United Kingdom   \n",
       "3  63 Rochester Ave, London, E13 9JL, United Kingdom   \n",
       "4  Waterloo Railway Station, London, SE1 8SE, Uni...   \n",
       "5  5-7 Southwark St, London, SE1 1RQ, United Kingdom   \n",
       "6  24 Thurloe St, South Kensington, London, SW7 2...   \n",
       "7  251 Pentonville Rd, London, N1 9NG, United Kin...   \n",
       "8  4, off Change Alley, Lombard St, London EC3V 9...   \n",
       "9  9 Festival Terrace, London, SE1 8XX, United Ki...   \n",
       "\n",
       "                                             website  rating  reviews  \n",
       "0  https://locations.burgerking.co.uk/london/85-g...     3.4   2153.0  \n",
       "1                                                NaN     NaN      NaN  \n",
       "2  https://www.honestburgers.co.uk/locations/picc...     4.4   1229.0  \n",
       "3                                                NaN     3.8     12.0  \n",
       "4  https://locations.burgerking.co.uk/london/wate...     2.9    899.0  \n",
       "5  https://www.honestburgers.co.uk/locations/boro...     4.5   3028.0  \n",
       "6  https://www.honestburgers.co.uk/locations/sout...     4.5   4320.0  \n",
       "7  https://www.honestburgers.co.uk/locations/king...     4.5   3453.0  \n",
       "8    https://www.honestburgers.co.uk/locations/bank/     4.4   1959.0  \n",
       "9  https://www.honestburgers.co.uk/locations/sout...     4.4   2150.0  "
      ]
     },
     "execution_count": 6,
     "metadata": {},
     "output_type": "execute_result"
    }
   ],
   "source": [
    "rest = pd.read_csv('final_data.csv')\n",
    "rest.head(10)"
   ]
  },
  {
   "cell_type": "code",
   "execution_count": 8,
   "metadata": {},
   "outputs": [
    {
     "data": {
      "text/plain": [
       "(511, 6)"
      ]
     },
     "execution_count": 8,
     "metadata": {},
     "output_type": "execute_result"
    }
   ],
   "source": [
    "rest.shape"
   ]
  },
  {
   "cell_type": "code",
   "execution_count": 9,
   "metadata": {},
   "outputs": [
    {
     "data": {
      "text/plain": [
       "name        0\n",
       "phone      46\n",
       "address     0\n",
       "website    63\n",
       "rating     17\n",
       "reviews    17\n",
       "dtype: int64"
      ]
     },
     "execution_count": 9,
     "metadata": {},
     "output_type": "execute_result"
    }
   ],
   "source": [
    "#Find null values\n",
    "rest.isnull().sum()"
   ]
  },
  {
   "cell_type": "code",
   "execution_count": 10,
   "metadata": {},
   "outputs": [],
   "source": [
    "rest.dropna(axis=0,inplace=True)"
   ]
  },
  {
   "cell_type": "code",
   "execution_count": 12,
   "metadata": {},
   "outputs": [],
   "source": [
    "rest = rest.drop_duplicates(subset=['name'], keep='first')\n"
   ]
  },
  {
   "cell_type": "code",
   "execution_count": 19,
   "metadata": {},
   "outputs": [],
   "source": [
    "drop_list = ['Burger King','Mcdonald','Pizza Hut','Dominos']\n",
    "for i in drop_list:\n",
    " rest = rest.drop(rest[rest['name']==i].index)"
   ]
  },
  {
   "cell_type": "code",
   "execution_count": 23,
   "metadata": {},
   "outputs": [],
   "source": [
    "rest.to_csv('cleaned_restaurant.csv')"
   ]
  }
 ],
 "metadata": {
  "kernelspec": {
   "display_name": "Python 3",
   "language": "python",
   "name": "python3"
  },
  "language_info": {
   "codemirror_mode": {
    "name": "ipython",
    "version": 3
   },
   "file_extension": ".py",
   "mimetype": "text/x-python",
   "name": "python",
   "nbconvert_exporter": "python",
   "pygments_lexer": "ipython3",
   "version": "3.12.1"
  }
 },
 "nbformat": 4,
 "nbformat_minor": 2
}
