{
 "cells": [
  {
   "cell_type": "code",
   "execution_count": 174,
   "metadata": {},
   "outputs": [],
   "source": [
    "#import essential libraries\n",
    "import requests\n",
    "from bs4 import BeautifulSoup as bs\n",
    "from urllib.request import urlopen as ureq\n",
    "import pandas as pd\n",
    "from urllib.parse import quote\n"
   ]
  },
  {
   "cell_type": "code",
   "execution_count": 94,
   "metadata": {},
   "outputs": [],
   "source": [
    "restaurant = pd.read_csv('cleaned_restaurant.csv')\n",
    "search = restaurant['name']"
   ]
  },
  {
   "cell_type": "code",
   "execution_count": 111,
   "metadata": {},
   "outputs": [],
   "source": [
    "def search_box(x):\n",
    "    search_term =quote(x)\n",
    "\n",
    "    search_link = \"https://find-and-update.company-information.service.gov.uk/search?q=\"+search_term\n",
    "    search_req = ureq(search_link)\n",
    "    search_read = search_req.read()\n",
    "    search_html = bs(search_read,'html.parser')\n",
    "    detail_box = search_html.findAll('a',{\"class\":\"govuk-link\"})\n",
    "    detail_box = detail_box[11:20]\n",
    "    search_details = []\n",
    "    for j in detail_box:\n",
    "        if x.upper() in j.text:\n",
    "            encoded_href= str(j.get('href'))\n",
    "            search_details.append(encoded_href)\n",
    "        else:\n",
    "            continue\n",
    "    if not search_details:\n",
    "        return None  \n",
    "    else:\n",
    "        return search_details\n",
    "    "
   ]
  },
  {
   "cell_type": "code",
   "execution_count": null,
   "metadata": {},
   "outputs": [],
   "source": [
    "search_result = []\n",
    "for i in search:\n",
    "    result = search_box(i)\n",
    "    search_result.append(result)\n"
   ]
  },
  {
   "cell_type": "code",
   "execution_count": 109,
   "metadata": {},
   "outputs": [],
   "source": [
    "filtered_result = [item for item in search_result if item is not None]"
   ]
  },
  {
   "cell_type": "code",
   "execution_count": 202,
   "metadata": {},
   "outputs": [],
   "source": [
    "filter_list = []\n",
    "for i in filtered_result:\n",
    "    for j in i:\n",
    "        filter_list.append(j)"
   ]
  },
  {
   "cell_type": "code",
   "execution_count": 203,
   "metadata": {},
   "outputs": [],
   "source": [
    "final_list = []\n",
    "remove_item = \"officers\"\n",
    "for k in filter_list:\n",
    "    if remove_item not in k:\n",
    "        final_list.append(k)"
   ]
  },
  {
   "cell_type": "code",
   "execution_count": 225,
   "metadata": {},
   "outputs": [],
   "source": [
    "def html_parse(link):\n",
    "    link_req = ureq(link)\n",
    "    link_page = link_req.read()\n",
    "    link_html = bs(link_page,\"html.parser\")\n",
    "    return link_html"
   ]
  },
  {
   "cell_type": "code",
   "execution_count": 240,
   "metadata": {},
   "outputs": [],
   "source": [
    "cust_data = []\n",
    "for link in final_list:\n",
    "    page_link = \"https://find-and-update.company-information.service.gov.uk\"+link\n",
    "    page_link_2= \"https://find-and-update.company-information.service.gov.uk\"+link+\"/officers\"\n",
    "    link_html_1 = html_parse(page_link)\n",
    "    link_html_2= html_parse(page_link_2)\n",
    "    rest_name = link_html_2.findAll(\"div\",{\"class\":\"company-header\"})[0].p.text\n",
    "    address= link_html_1.findAll(\"div\",{\"class\":\"govuk-tabs__panel\"})[0].text\n",
    "    box = link_html_2.findAll(\"div\",{\"class\":\"appointment-1\"})\n",
    "    for name in box:\n",
    "        name_customer = name.find(\"a\",{\"class\":\"govuk-link\"}).text\n",
    "        designation = name.findAll(\"dd\",{\"id\":\"officer-role-1\"})[0].text\n",
    "    data = {\"Name\":name_customer,\n",
    "            \"Designation\":designation,\n",
    "            \"Restaurant Name\":rest_name,\n",
    "            \"Address\":address}\n",
    "    cust_data.append(data)\n",
    "    \n",
    "    "
   ]
  },
  {
   "cell_type": "code",
   "execution_count": 238,
   "metadata": {},
   "outputs": [
    {
     "ename": "AttributeError",
     "evalue": "'str' object has no attribute 'text'",
     "output_type": "error",
     "traceback": [
      "\u001b[0;31m---------------------------------------------------------------------------\u001b[0m",
      "\u001b[0;31mAttributeError\u001b[0m                            Traceback (most recent call last)",
      "Cell \u001b[0;32mIn[238], line 7\u001b[0m\n\u001b[1;32m      5\u001b[0m link_page \u001b[38;5;241m=\u001b[39m link_req\u001b[38;5;241m.\u001b[39mread()\n\u001b[1;32m      6\u001b[0m link_html \u001b[38;5;241m=\u001b[39m bs(link_page,\u001b[38;5;124m\"\u001b[39m\u001b[38;5;124mhtml.parser\u001b[39m\u001b[38;5;124m\"\u001b[39m)\n\u001b[0;32m----> 7\u001b[0m rest_name \u001b[38;5;241m=\u001b[39m \u001b[43mlink_html\u001b[49m\u001b[38;5;241;43m.\u001b[39;49m\u001b[43mfindAll\u001b[49m\u001b[43m(\u001b[49m\u001b[38;5;124;43m\"\u001b[39;49m\u001b[38;5;124;43mp\u001b[39;49m\u001b[38;5;124;43m\"\u001b[39;49m\u001b[43m,\u001b[49m\u001b[43m{\u001b[49m\u001b[38;5;124;43m\"\u001b[39;49m\u001b[38;5;124;43mclass\u001b[39;49m\u001b[38;5;124;43m\"\u001b[39;49m\u001b[43m:\u001b[49m\u001b[38;5;124;43m\"\u001b[39;49m\u001b[38;5;124;43mheading-xlarge\u001b[39;49m\u001b[38;5;124;43m\"\u001b[39;49m\u001b[43m}\u001b[49m\u001b[43m)\u001b[49m\u001b[43m[\u001b[49m\u001b[38;5;241;43m0\u001b[39;49m\u001b[43m]\u001b[49m\u001b[38;5;241;43m.\u001b[39;49m\u001b[43mtext\u001b[49m\u001b[43m[\u001b[49m\u001b[38;5;241;43m0\u001b[39;49m\u001b[43m]\u001b[49m\u001b[38;5;241;43m.\u001b[39;49m\u001b[43mtext\u001b[49m\n\u001b[1;32m      8\u001b[0m box \u001b[38;5;241m=\u001b[39m link_html\u001b[38;5;241m.\u001b[39mfindAll(\u001b[38;5;124m\"\u001b[39m\u001b[38;5;124mdiv\u001b[39m\u001b[38;5;124m\"\u001b[39m,{\u001b[38;5;124m\"\u001b[39m\u001b[38;5;124mclass\u001b[39m\u001b[38;5;124m\"\u001b[39m:\u001b[38;5;124m\"\u001b[39m\u001b[38;5;124mappointment-1\u001b[39m\u001b[38;5;124m\"\u001b[39m})\n\u001b[1;32m      9\u001b[0m \u001b[38;5;28;01mfor\u001b[39;00m name \u001b[38;5;129;01min\u001b[39;00m box:\n",
      "\u001b[0;31mAttributeError\u001b[0m: 'str' object has no attribute 'text'"
     ]
    }
   ],
   "source": [
    "cust_data = []\n",
    "for link in final_list:\n",
    "    page_link = \"https://find-and-update.company-information.service.gov.uk\"+link+\"/officers\"\n",
    "    link_req = ureq(page_link)\n",
    "    link_page = link_req.read()\n",
    "    link_html = bs(link_page,\"html.parser\")\n",
    "    rest_name = link_html.findAll(\"p\",{\"class\":\"heading-xlarge\"})[0].text[0].text\n",
    "    box = link_html.findAll(\"div\",{\"class\":\"appointment-1\"})\n",
    "    for name in box:\n",
    "        name_customer = name.find(\"a\",{\"class\":\"govuk-link\"}).text\n",
    "        designation = name.findAll(\"dd\",{\"id\":\"officer-role-1\"})[0].text\n",
    "    data = {\"Name\":name_customer,\n",
    "            \"Designation\":designation,\n",
    "            \"Restaurant Name\":rest_name,\n",
    "            \"Address\":address}\n",
    "    cust_data.append(data)\n",
    "    \n",
    "    "
   ]
  },
  {
   "cell_type": "code",
   "execution_count": 243,
   "metadata": {},
   "outputs": [
    {
     "data": {
      "text/plain": [
       "'MINNS, Roger'"
      ]
     },
     "execution_count": 243,
     "metadata": {},
     "output_type": "execute_result"
    }
   ],
   "source": [
    "name_customer"
   ]
  },
  {
   "cell_type": "code",
   "execution_count": 241,
   "metadata": {},
   "outputs": [],
   "source": [
    "customer_data = pd.DataFrame(cust_data)\n",
    "customer_data.to_csv(\"Customer_Data.csv\")"
   ]
  },
  {
   "cell_type": "code",
   "execution_count": 242,
   "metadata": {},
   "outputs": [
    {
     "data": {
      "text/html": [
       "<div>\n",
       "<style scoped>\n",
       "    .dataframe tbody tr th:only-of-type {\n",
       "        vertical-align: middle;\n",
       "    }\n",
       "\n",
       "    .dataframe tbody tr th {\n",
       "        vertical-align: top;\n",
       "    }\n",
       "\n",
       "    .dataframe thead th {\n",
       "        text-align: right;\n",
       "    }\n",
       "</style>\n",
       "<table border=\"1\" class=\"dataframe\">\n",
       "  <thead>\n",
       "    <tr style=\"text-align: right;\">\n",
       "      <th></th>\n",
       "      <th>Name</th>\n",
       "      <th>Designation</th>\n",
       "      <th>Restaurant Name</th>\n",
       "      <th>Address</th>\n",
       "    </tr>\n",
       "  </thead>\n",
       "  <tbody>\n",
       "    <tr>\n",
       "      <th>0</th>\n",
       "      <td>AHMAD, Shadab</td>\n",
       "      <td>\\n                            Director\\n      ...</td>\n",
       "      <td>ANGUS BURGERS LTD.</td>\n",
       "      <td>\\n\\nRegistered office address\\n\\n115 Wembley P...</td>\n",
       "    </tr>\n",
       "    <tr>\n",
       "      <th>1</th>\n",
       "      <td>STACKHOUSE, Benjamin Ewald</td>\n",
       "      <td>\\n                            Director\\n      ...</td>\n",
       "      <td>BURGER CRAFT LIMITED</td>\n",
       "      <td>\\n\\nRegistered office address\\n\\n1 Vincent Squ...</td>\n",
       "    </tr>\n",
       "    <tr>\n",
       "      <th>2</th>\n",
       "      <td>BJARNASON, Sigurour Halldor</td>\n",
       "      <td>\\n                            Director\\n      ...</td>\n",
       "      <td>TOMMI'S BURGER JOINT LTD.</td>\n",
       "      <td>\\n\\nRegistered office address\\n\\n30 Thayer Str...</td>\n",
       "    </tr>\n",
       "    <tr>\n",
       "      <th>3</th>\n",
       "      <td>BJARNASON, Sigurour Halldor</td>\n",
       "      <td>\\n                            Director\\n      ...</td>\n",
       "      <td>TOMMI'S BURGER JOINT BOROUGH LIMITED</td>\n",
       "      <td>\\n\\nRegistered office address\\n\\n30 Thayer Str...</td>\n",
       "    </tr>\n",
       "    <tr>\n",
       "      <th>4</th>\n",
       "      <td>BUKHOV, Georgy</td>\n",
       "      <td>\\n                            Director\\n      ...</td>\n",
       "      <td>BURGER &amp; LOBSTER MAYFAIR LIMITED</td>\n",
       "      <td>\\n\\nRegistered office address\\n\\n37-41 Bedford...</td>\n",
       "    </tr>\n",
       "    <tr>\n",
       "      <th>5</th>\n",
       "      <td>BUKHOV, Georgy</td>\n",
       "      <td>\\n                            Director\\n      ...</td>\n",
       "      <td>BURGER &amp; LOBSTER SOHO LIMITED</td>\n",
       "      <td>\\n\\nRegistered office address\\n\\n37-41 Bedford...</td>\n",
       "    </tr>\n",
       "    <tr>\n",
       "      <th>6</th>\n",
       "      <td>BUKHOV, Georgy</td>\n",
       "      <td>\\n                            Director\\n      ...</td>\n",
       "      <td>BURGER &amp; LOBSTER KNIGHTSBRIDGE LIMITED</td>\n",
       "      <td>\\n\\nRegistered office address\\n\\n37-41 Bedford...</td>\n",
       "    </tr>\n",
       "    <tr>\n",
       "      <th>7</th>\n",
       "      <td>MONSUR, Taraquz Zaman</td>\n",
       "      <td>\\n                            Director\\n      ...</td>\n",
       "      <td>BURGERS LDN LTD</td>\n",
       "      <td>\\n\\nRegistered office address\\n\\n141 Leman Str...</td>\n",
       "    </tr>\n",
       "    <tr>\n",
       "      <th>8</th>\n",
       "      <td>HUSSAIN, Mohammed Imran</td>\n",
       "      <td>\\n                            Director\\n      ...</td>\n",
       "      <td>BURGERS LDN (BARKING) LTD</td>\n",
       "      <td>\\n\\nRegistered office address\\n\\n81 Longbridge...</td>\n",
       "    </tr>\n",
       "    <tr>\n",
       "      <th>9</th>\n",
       "      <td>SOMEL, Jaz</td>\n",
       "      <td>\\n                            Secretary\\n     ...</td>\n",
       "      <td>BURGERS LDN COVENTRY LTD</td>\n",
       "      <td>\\n\\nRegistered office address\\n\\nCentral Six R...</td>\n",
       "    </tr>\n",
       "  </tbody>\n",
       "</table>\n",
       "</div>"
      ],
      "text/plain": [
       "                          Name  \\\n",
       "0                AHMAD, Shadab   \n",
       "1   STACKHOUSE, Benjamin Ewald   \n",
       "2  BJARNASON, Sigurour Halldor   \n",
       "3  BJARNASON, Sigurour Halldor   \n",
       "4               BUKHOV, Georgy   \n",
       "5               BUKHOV, Georgy   \n",
       "6               BUKHOV, Georgy   \n",
       "7        MONSUR, Taraquz Zaman   \n",
       "8      HUSSAIN, Mohammed Imran   \n",
       "9                   SOMEL, Jaz   \n",
       "\n",
       "                                         Designation  \\\n",
       "0  \\n                            Director\\n      ...   \n",
       "1  \\n                            Director\\n      ...   \n",
       "2  \\n                            Director\\n      ...   \n",
       "3  \\n                            Director\\n      ...   \n",
       "4  \\n                            Director\\n      ...   \n",
       "5  \\n                            Director\\n      ...   \n",
       "6  \\n                            Director\\n      ...   \n",
       "7  \\n                            Director\\n      ...   \n",
       "8  \\n                            Director\\n      ...   \n",
       "9  \\n                            Secretary\\n     ...   \n",
       "\n",
       "                          Restaurant Name  \\\n",
       "0                      ANGUS BURGERS LTD.   \n",
       "1                    BURGER CRAFT LIMITED   \n",
       "2               TOMMI'S BURGER JOINT LTD.   \n",
       "3    TOMMI'S BURGER JOINT BOROUGH LIMITED   \n",
       "4        BURGER & LOBSTER MAYFAIR LIMITED   \n",
       "5           BURGER & LOBSTER SOHO LIMITED   \n",
       "6  BURGER & LOBSTER KNIGHTSBRIDGE LIMITED   \n",
       "7                         BURGERS LDN LTD   \n",
       "8               BURGERS LDN (BARKING) LTD   \n",
       "9                BURGERS LDN COVENTRY LTD   \n",
       "\n",
       "                                             Address  \n",
       "0  \\n\\nRegistered office address\\n\\n115 Wembley P...  \n",
       "1  \\n\\nRegistered office address\\n\\n1 Vincent Squ...  \n",
       "2  \\n\\nRegistered office address\\n\\n30 Thayer Str...  \n",
       "3  \\n\\nRegistered office address\\n\\n30 Thayer Str...  \n",
       "4  \\n\\nRegistered office address\\n\\n37-41 Bedford...  \n",
       "5  \\n\\nRegistered office address\\n\\n37-41 Bedford...  \n",
       "6  \\n\\nRegistered office address\\n\\n37-41 Bedford...  \n",
       "7  \\n\\nRegistered office address\\n\\n141 Leman Str...  \n",
       "8  \\n\\nRegistered office address\\n\\n81 Longbridge...  \n",
       "9  \\n\\nRegistered office address\\n\\nCentral Six R...  "
      ]
     },
     "execution_count": 242,
     "metadata": {},
     "output_type": "execute_result"
    }
   ],
   "source": [
    "customer_data.head(10)"
   ]
  },
  {
   "cell_type": "code",
   "execution_count": null,
   "metadata": {},
   "outputs": [],
   "source": []
  }
 ],
 "metadata": {
  "kernelspec": {
   "display_name": "Python 3",
   "language": "python",
   "name": "python3"
  },
  "language_info": {
   "codemirror_mode": {
    "name": "ipython",
    "version": 3
   },
   "file_extension": ".py",
   "mimetype": "text/x-python",
   "name": "python",
   "nbconvert_exporter": "python",
   "pygments_lexer": "ipython3",
   "version": "3.12.1"
  }
 },
 "nbformat": 4,
 "nbformat_minor": 2
}
